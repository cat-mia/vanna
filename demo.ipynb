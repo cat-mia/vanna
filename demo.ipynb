{
 "cells": [
  {
   "cell_type": "code",
   "execution_count": null,
   "metadata": {},
   "outputs": [],
   "source": [
    "!pip install 'vanna[openai]'"
   ]
  },
  {
   "cell_type": "code",
   "execution_count": null,
   "metadata": {},
   "outputs": [],
   "source": [
    "from vanna.remote import VannaDefault\n",
    "vn = VannaDefault(model='om-mia', api_key='8e22917e87be421994d01f283f0b5661')\n",
    "vn.connect_to_sqlite('om.sqlite')\n",
    "# vn.ask('What are the top 10 artists by sales?')\n",
    "# vn.train(ddl=vn_ddl)\n",
    "from vanna.flask import VannaFlaskApp\n",
    "VannaFlaskApp(vn, allow_llm_to_see_data=True).run()"
   ]
  }
 ],
 "metadata": {
  "language_info": {
   "name": "python"
  }
 },
 "nbformat": 4,
 "nbformat_minor": 2
}
