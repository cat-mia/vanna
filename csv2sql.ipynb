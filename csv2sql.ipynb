{
 "cells": [
  {
   "cell_type": "code",
   "execution_count": null,
   "metadata": {},
   "outputs": [],
   "source": [
    "import sqlite3\n",
    "import pandas as pd\n",
    "\n",
    "conn = sqlite3.connect('om.sqlite')\n",
    "\n",
    "df1 = pd.read_csv(\"us_import.csv\")\n",
    "df2 = pd.read_csv(\"vn_export.csv\")\n",
    "\n",
    "df1.to_sql('us_import', conn, if_exists='replace', index=False)  # 如果表已存在，替换它\n",
    "df2.to_sql('vn_export', conn, if_exists='replace', index=False)\n",
    "\n",
    "conn.commit()\n",
    "conn.close()"
   ]
  }
 ],
 "metadata": {
  "language_info": {
   "name": "python"
  }
 },
 "nbformat": 4,
 "nbformat_minor": 2
}
